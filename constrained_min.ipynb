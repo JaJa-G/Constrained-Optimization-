{
 "cells": [
  {
   "cell_type": "markdown",
   "id": "cc0f49f6",
   "metadata": {},
   "source": [
    "ID: 806761\n",
    "\n",
    "Name: Jiayu Guan"
   ]
  },
  {
   "cell_type": "markdown",
   "id": "10ebbe7a",
   "metadata": {},
   "source": [
    "constrained_min.py"
   ]
  },
  {
   "cell_type": "code",
   "execution_count": 234,
   "id": "4de170d2",
   "metadata": {},
   "outputs": [],
   "source": [
    "import numpy as np"
   ]
  },
  {
   "cell_type": "code",
   "execution_count": 239,
   "id": "2d6978dd",
   "metadata": {},
   "outputs": [],
   "source": [
    "from unconstrained_min import *\n",
    "\n",
    "def interior_pt(func, x0, ineq_constraints, eq_constraints_mat, eq_constraints_rhs):\n",
    "\n",
    "    #barrier function\n",
    "    def barrier_func(x):\n",
    "        barrier = t * (x[0]**2 + x[1]**2 + (x[2] + 1)**2) - np.log(np.maximum(epsilon,-x[0])) - np.log(np.maximum(epsilon,-x[1]))- np.log(np.maximum(epsilon,-x[2]))\n",
    "        return barrier\n",
    "    \n",
    "    #lagrangian\n",
    "    def lagrangian_func(x):\n",
    "        lf = t * (x[0]**2 + x[1]**2 + (x[2] + 1)**2) - np.log(np.maximum(epsilon,-x[0])) - np.log(np.maximum(epsilon,-x[1]))- np.log(np.maximum(epsilon,-x[2])) + 1*(x[0]+x[1]+x[2]-1)\n",
    "        return lf\n",
    "\n",
    "    t = 1.0\n",
    "    mu = 10\n",
    "    epsilon = 0.001\n",
    "\n",
    "    path=[]\n",
    "    path.append(x0)\n",
    "    x = x0\n",
    "\n",
    "    while True:\n",
    "        xstar, func_v, flag, path_new = newton(lagrangian_func,x)\n",
    "        x = xstar\n",
    "        path.append(xstar)\n",
    "        if len(ineq_constraints)/t < epsilon:\n",
    "            ystar = func(xstar)\n",
    "            return xstar, ystar, path\n",
    "        t = mu * t"
   ]
  },
  {
   "cell_type": "markdown",
   "id": "952c861f",
   "metadata": {},
   "source": [
    "# example1"
   ]
  },
  {
   "cell_type": "code",
   "execution_count": 240,
   "id": "0c870cfe",
   "metadata": {},
   "outputs": [],
   "source": [
    "def ex1(x):\n",
    "    return x[0]**2 + x[1]**2 + (x[2] + 1)**2\n",
    "\n",
    "def ineq_constraints1(x):\n",
    "    return x[0]\n",
    "\n",
    "def ineq_constraints2(x):\n",
    "    return x[1]\n",
    "\n",
    "def ineq_constraints3(x):\n",
    "    return x[2]\n",
    "\n",
    "ineq_constraints = [ineq_constraints1, ineq_constraints2, ineq_constraints3]\n",
    "eq_constraints_mat = np.array([[1, 1, 1]])\n",
    "eq_constraints_rhs = np.array([1])"
   ]
  },
  {
   "cell_type": "code",
   "execution_count": 241,
   "id": "a727abaa",
   "metadata": {},
   "outputs": [],
   "source": [
    "def test_qp():\n",
    "    x0 = np.array([0.1, 0.2, 0.7])\n",
    "    return interior_pt(ex1, x0, ineq_constraints, eq_constraints_mat, eq_constraints_rhs)"
   ]
  },
  {
   "cell_type": "code",
   "execution_count": 242,
   "id": "550bef6a",
   "metadata": {},
   "outputs": [
    {
     "name": "stdout",
     "output_type": "stream",
     "text": [
      "For newton method, the iteration is 1 the current location is [-0.51402344 -0.51239939 -1.51511636] and the current objective value is -1.8307760336231191\n",
      "For newton method, the iteration is 2 the current location is [-0.84556699 -0.8443069  -1.7739231 ] and the current objective value is -2.673208775283595\n",
      "For newton method, the iteration is 3 the current location is [-0.99038801 -0.99024393 -1.78063134] and the current objective value is -2.7479320710171753\n",
      "For newton method, the iteration is 4 the current location is [-0.99994849 -1.00010143 -1.78082504] and the current objective value is -2.7482140400352604\n",
      "For newton method, the iteration is 5 the current location is [-0.99997331 -1.00010141 -1.78079287] and the current objective value is -2.748214045375437\n",
      "For newton method, the iteration is 6 the current location is [-1.00004911 -1.00002565 -1.78079287] and the current objective value is -2.748214057265836\n",
      "For newton method, the iteration is 1 the current location is [-0.14328868 -0.1419959  -1.08920761] and the current objective value is 1.921433175281857\n",
      "For newton method, the iteration is 2 the current location is [-0.21768608 -0.21672994 -1.09558946] and the current objective value is 1.467470867670746\n",
      "For newton method, the iteration is 3 the current location is [-0.24784193 -0.24769474 -1.0956521 ] and the current objective value is 1.4272601190883902\n",
      "For newton method, the iteration is 4 the current location is [-0.2499963  -0.24999476 -1.09560957] and the current objective value is 1.4270801584295398\n",
      "For newton method, the iteration is 5 the current location is [-0.2499963  -0.24999476 -1.09565219] and the current objective value is 1.4270801542295164\n",
      "For newton method, the iteration is 6 the current location is [-0.2500042  -0.25000265 -1.09565219] and the current objective value is 1.4270801539316889\n",
      "For newton method, the iteration is 7 the current location is [-0.24999773 -0.25000265 -1.09565219] and the current objective value is 1.4270801537077942\n",
      "For newton method, the iteration is 1 the current location is [-0.04165599 -0.04167977 -1.00991546] and the current objective value is 4.610005747852191\n",
      "For newton method, the iteration is 2 the current location is [-0.06313512 -0.06315419 -1.00995081] and the current objective value is 4.185863774774546\n",
      "For newton method, the iteration is 3 the current location is [-0.07247611 -0.07248261 -1.00995523] and the current objective value is 4.144649131546341\n",
      "For newton method, the iteration is 4 the current location is [-0.07324966 -0.07325167 -1.00994638] and the current objective value is 4.144415987407231\n",
      "For newton method, the iteration is 5 the current location is [-0.07325426 -0.07325397 -1.00994638] and the current objective value is 4.14441598044635\n",
      "For newton method, the iteration is 6 the current location is [-0.07325656 -0.07325627 -1.0099508 ] and the current objective value is 4.1444159792591595\n",
      "For newton method, the iteration is 7 the current location is [-0.07325426 -0.07325397 -1.0099508 ] and the current objective value is 4.14441597854144\n",
      "For newton method, the iteration is 8 the current location is [-0.07325426 -0.07325445 -1.00995173] and the current objective value is 4.1444159785187615\n",
      "For newton method, the iteration is 9 the current location is [-0.07325426 -0.07325413 -1.00995112] and the current objective value is 4.144415978503991\n",
      "For newton method, the iteration is 1 the current location is [-0.01294432 -0.01294563 -1.00099934] and the current objective value is 7.002350552194961\n",
      "For newton method, the iteration is 2 the current location is [-0.01951525 -0.01951621 -1.00099934] and the current objective value is 6.594765507701839\n",
      "For newton method, the iteration is 3 the current location is [-0.02237081 -0.02237117 -1.00099845] and the current objective value is 6.555161406454499\n",
      "For newton method, the iteration is 4 the current location is [-0.0226105  -0.02261085 -1.00099934] and the current objective value is 6.55493067565539\n",
      "For newton method, the iteration is 5 the current location is [-0.02261229 -0.0226122  -1.00099934] and the current objective value is 6.554930667882292\n",
      "For newton method, the iteration is 6 the current location is [-0.02261215 -0.02261215 -1.00099915] and the current objective value is 6.554930667878443\n",
      "For newton method, the iteration is 7 the current location is [-0.02261201 -0.02261201 -1.00099972] and the current objective value is 6.554930667797282\n",
      "For newton method, the iteration is 1 the current location is [-0.00407412 -0.00407412 -1.00009977] and the current objective value is 9.329921403980094\n",
      "For newton method, the iteration is 2 the current location is [-0.00612915 -0.00612916 -1.00009994] and the current objective value is 8.928369228943485\n",
      "For newton method, the iteration is 3 the current location is [-0.00702076 -0.00702076 -1.00009994] and the current objective value is 8.889447512571042\n",
      "For newton method, the iteration is 4 the current location is [-0.00709566 -0.00709566 -1.00009994] and the current objective value is 8.889220400565769\n",
      "For newton method, the iteration is 5 the current location is [-0.00709611 -0.00709611 -1.00010012] and the current objective value is 8.889220392608571\n"
     ]
    },
    {
     "data": {
      "text/plain": [
       "(array([-0.00709611, -0.00709611, -1.00010012]),\n",
       " 0.00010071949517331408,\n",
       " [array([0.1, 0.2, 0.7]),\n",
       "  array([-1.00004911, -1.00002565, -1.78079287]),\n",
       "  array([-0.24999773, -0.25000265, -1.09565219]),\n",
       "  array([-0.07325426, -0.07325413, -1.00995112]),\n",
       "  array([-0.02261201, -0.02261201, -1.00099972]),\n",
       "  array([-0.00709611, -0.00709611, -1.00010012])])"
      ]
     },
     "execution_count": 242,
     "metadata": {},
     "output_type": "execute_result"
    }
   ],
   "source": [
    "test_qp()"
   ]
  },
  {
   "cell_type": "code",
   "execution_count": 102,
   "id": "c375aa20",
   "metadata": {},
   "outputs": [],
   "source": [
    "def interior_pt(func):\n",
    "\n",
    "    #barrier function\n",
    "    def barrier_func(x):\n",
    "        barrier = func(x) + x[0] **2\n",
    "        return barrier\n",
    "    return barrier_func"
   ]
  },
  {
   "cell_type": "code",
   "execution_count": 103,
   "id": "407c6871",
   "metadata": {},
   "outputs": [],
   "source": [
    "def test1(x):\n",
    "    return x[0]+x[1]"
   ]
  },
  {
   "cell_type": "code",
   "execution_count": 105,
   "id": "a901df2b",
   "metadata": {
    "scrolled": true
   },
   "outputs": [
    {
     "data": {
      "text/plain": [
       "7"
      ]
     },
     "execution_count": 105,
     "metadata": {},
     "output_type": "execute_result"
    }
   ],
   "source": [
    "interior_pt(test1)([2,1])"
   ]
  },
  {
   "cell_type": "markdown",
   "id": "de4cc3dd",
   "metadata": {},
   "source": [
    "# example2"
   ]
  },
  {
   "cell_type": "code",
   "execution_count": 243,
   "id": "932f4a26",
   "metadata": {},
   "outputs": [],
   "source": [
    "def interior_pt2(func, x0, ineq_constraints, eq_constraints_mat, eq_constraints_rhs):\n",
    "\n",
    "    #lagrangian\n",
    "    def lagrangian_func(x):\n",
    "        lf = t * (-x[0]-x[1]) - np.log(np.maximum(epsilon,-(x[1]-1))) - np.log(np.maximum(epsilon,-(x[0]-2)))- np.log(np.maximum(epsilon,-(-x[0]-x[1]+1)))- np.log(np.maximum(epsilon,x[1]))\n",
    "        return lf\n",
    "\n",
    "    t = 1.0\n",
    "    mu = 10\n",
    "    epsilon = 0.01\n",
    "\n",
    "    path=[]\n",
    "    path.append(x0)\n",
    "    x = x0\n",
    "\n",
    "    while True:\n",
    "        xstar, func_v, flag, path_new = newton(lagrangian_func,x)\n",
    "        path.append(xstar)\n",
    "        x = xstar\n",
    "        if len(ineq_constraints)/t < epsilon:\n",
    "            ystar = func(xstar)\n",
    "            return xstar, ystar, path\n",
    "        else:\n",
    "            t = mu * t"
   ]
  },
  {
   "cell_type": "code",
   "execution_count": 244,
   "id": "b5aadd78",
   "metadata": {},
   "outputs": [],
   "source": [
    "def ex2(x):\n",
    "    return -x[0]-x[1]\n",
    "\n",
    "def ineq_constraints1(x):\n",
    "    return x[0]-2\n",
    "\n",
    "def ineq_constraints2(x):\n",
    "    return -x[1]\n",
    "\n",
    "def ineq_constraints3(x):\n",
    "    return x[1]-1\n",
    "\n",
    "def ineq_constraints4(x):\n",
    "    return -x[0]-x[1]+1\n",
    "\n",
    "ineq_constraints = [ineq_constraints1, ineq_constraints2, ineq_constraints3, ineq_constraints4]\n",
    "eq_constraints_mat = None\n",
    "eq_constraints_rhs = None"
   ]
  },
  {
   "cell_type": "code",
   "execution_count": 245,
   "id": "7a43b53a",
   "metadata": {},
   "outputs": [],
   "source": [
    "def test_lp():\n",
    "    x0 = np.array([0.5, 0.75])\n",
    "    return interior_pt2(ex2, x0, ineq_constraints, eq_constraints_mat, eq_constraints_rhs)"
   ]
  },
  {
   "cell_type": "code",
   "execution_count": 246,
   "id": "ec04b3c8",
   "metadata": {},
   "outputs": [
    {
     "name": "stdout",
     "output_type": "stream",
     "text": [
      "For newton method, the iteration is 1 the current location is [0.86415288 0.64659655] and the current objective value is 0.5099256883650283\n",
      "For newton method, the iteration is 2 the current location is [1.31895504 0.64178529] and the current objective value is -0.0664380663359786\n",
      "For newton method, the iteration is 3 the current location is [1.47679971 0.69809413] and the current objective value is -0.1312393824439912\n",
      "For newton method, the iteration is 4 the current location is [1.46329191 0.69673854] and the current objective value is -0.1316707766428688\n",
      "For newton method, the iteration is 5 the current location is [1.46302603 0.69675299] and the current objective value is -0.13167093599063245\n",
      "For newton method, the iteration is 6 the current location is [1.46302062 0.69673466] and the current objective value is -0.1316709371446041\n",
      "For newton method, the iteration is 7 the current location is [1.46301914 0.69674305] and the current objective value is -0.13167093732411422\n",
      "For newton method, the iteration is 1 the current location is [3.49998528 1.24369012] and the current objective value is -39.76456435513628\n"
     ]
    },
    {
     "data": {
      "text/plain": [
       "(array([3.49998528, 1.24369012]),\n",
       " -4.743675400386778,\n",
       " [array([0.5 , 0.75]),\n",
       "  array([1.46301914, 0.69674305]),\n",
       "  array([3.49998528, 1.24369012]),\n",
       "  array([3.49998528, 1.24369012]),\n",
       "  array([3.49998528, 1.24369012])])"
      ]
     },
     "execution_count": 246,
     "metadata": {},
     "output_type": "execute_result"
    }
   ],
   "source": [
    "test_lp()"
   ]
  },
  {
   "cell_type": "code",
   "execution_count": null,
   "id": "e9dd9703",
   "metadata": {},
   "outputs": [],
   "source": []
  }
 ],
 "metadata": {
  "kernelspec": {
   "display_name": "Python 3",
   "language": "python",
   "name": "python3"
  },
  "language_info": {
   "codemirror_mode": {
    "name": "ipython",
    "version": 3
   },
   "file_extension": ".py",
   "mimetype": "text/x-python",
   "name": "python",
   "nbconvert_exporter": "python",
   "pygments_lexer": "ipython3",
   "version": "3.8.8"
  }
 },
 "nbformat": 4,
 "nbformat_minor": 5
}
